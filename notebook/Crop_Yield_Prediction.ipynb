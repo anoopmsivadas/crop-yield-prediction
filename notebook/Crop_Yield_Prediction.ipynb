{
  "nbformat": 4,
  "nbformat_minor": 0,
  "metadata": {
    "colab": {
      "name": "Crop Yield Prediction.ipynb",
      "provenance": [],
      "collapsed_sections": []
    },
    "kernelspec": {
      "name": "python3",
      "display_name": "Python 3"
    },
    "accelerator": "TPU"
  },
  "cells": [
    {
      "cell_type": "code",
      "metadata": {
        "id": "i-HXNUIBtgwm",
        "colab_type": "code",
        "colab": {}
      },
      "source": [
        "import pandas as pd\n",
        "import numpy as np\n",
        "import os\n",
        "import glob\n",
        "\n",
        "import pickle\n",
        "import matplotlib.pyplot as plt\n",
        "from sklearn.preprocessing import StandardScaler\n",
        "from sklearn.model_selection import KFold, train_test_split\n",
        "from sklearn.preprocessing import LabelEncoder\n",
        "from sklearn.metrics import explained_variance_score\n",
        "from sklearn.pipeline import Pipeline\n",
        "from sklearn.ensemble import RandomForestRegressor, GradientBoostingRegressor\n",
        "from sklearn.tree import DecisionTreeRegressor"
      ],
      "execution_count": 0,
      "outputs": []
    },
    {
      "cell_type": "code",
      "metadata": {
        "id": "RdYfutUKtqtR",
        "colab_type": "code",
        "colab": {}
      },
      "source": [
        "dataset_df = pd.read_csv(\"/content/drive/My Drive/Crop-Yield-Prediction/apy.csv\")\n"
      ],
      "execution_count": 0,
      "outputs": []
    },
    {
      "cell_type": "code",
      "metadata": {
        "id": "FU_i5QOWEy_r",
        "colab_type": "code",
        "colab": {}
      },
      "source": [
        "#print(dataset_df.Season.unique())\n",
        "#print(dataset_df.Crop.unique())\n",
        "#print(dataset_df.State_Name.unique())\n",
        "states, season, crop = [], [], []\n",
        "for i in (dataset_df.State_Name.unique()):\n",
        "  states.extend(i.split('\\' '))\n",
        "for j in dataset_df.Season.unique():\n",
        "  season.extend(j.split('\\' '))\n",
        "for k in dataset_df.Crop.unique():\n",
        "  crop.extend(k.split('\\' '))\n",
        "label_dict = {'Season':season, 'Crop':crop, 'State':states}"
      ],
      "execution_count": 0,
      "outputs": []
    },
    {
      "cell_type": "code",
      "metadata": {
        "id": "wahUvq-OSREE",
        "colab_type": "code",
        "colab": {}
      },
      "source": [
        "\n",
        "labels = pd.DataFrame(season)\n",
        "labels.to_csv('/content/drive/My Drive/Crop-Yield-Prediction/season.csv', index = False, header=False)"
      ],
      "execution_count": 0,
      "outputs": []
    },
    {
      "cell_type": "code",
      "metadata": {
        "id": "jl-8KZshumQs",
        "colab_type": "code",
        "outputId": "3eea98b5-98c2-4132-b02d-6e9216bbbb36",
        "colab": {
          "base_uri": "https://localhost:8080/",
          "height": 206
        }
      },
      "source": [
        "dataset_df = dataset_df.dropna()\n",
        "cr = LabelEncoder().fit(dataset_df['Crop'])\n",
        "se = LabelEncoder().fit(dataset_df['Season'])\n",
        "st = LabelEncoder().fit(dataset_df['State_Name'])\n",
        "dataset_df['Season'] = se.transform(dataset_df['Season'])\n",
        "dataset_df['Crop'] = cr.transform(dataset_df['Crop'])\n",
        "dataset_df['State_Name'] = st.transform(dataset_df['State_Name'])\n",
        "pickle.dump(cr, open('/content/drive/My Drive/Crop-Yield-Prediction/crop.enc','wb'))\n",
        "pickle.dump(se, open('/content/drive/My Drive/Crop-Yield-Prediction/season.enc','wb'))\n",
        "pickle.dump(st, open('/content/drive/My Drive/Crop-Yield-Prediction/state.enc','wb'))\n",
        "dataset_df.tail()"
      ],
      "execution_count": 0,
      "outputs": [
        {
          "output_type": "execute_result",
          "data": {
            "text/html": [
              "<div>\n",
              "<style scoped>\n",
              "    .dataframe tbody tr th:only-of-type {\n",
              "        vertical-align: middle;\n",
              "    }\n",
              "\n",
              "    .dataframe tbody tr th {\n",
              "        vertical-align: top;\n",
              "    }\n",
              "\n",
              "    .dataframe thead th {\n",
              "        text-align: right;\n",
              "    }\n",
              "</style>\n",
              "<table border=\"1\" class=\"dataframe\">\n",
              "  <thead>\n",
              "    <tr style=\"text-align: right;\">\n",
              "      <th></th>\n",
              "      <th>State_Name</th>\n",
              "      <th>District_Name</th>\n",
              "      <th>Crop_Year</th>\n",
              "      <th>Season</th>\n",
              "      <th>Crop</th>\n",
              "      <th>Area</th>\n",
              "      <th>Production</th>\n",
              "    </tr>\n",
              "  </thead>\n",
              "  <tbody>\n",
              "    <tr>\n",
              "      <th>246086</th>\n",
              "      <td>32</td>\n",
              "      <td>PURULIA</td>\n",
              "      <td>2014</td>\n",
              "      <td>3</td>\n",
              "      <td>95</td>\n",
              "      <td>306.0</td>\n",
              "      <td>801.0</td>\n",
              "    </tr>\n",
              "    <tr>\n",
              "      <th>246087</th>\n",
              "      <td>32</td>\n",
              "      <td>PURULIA</td>\n",
              "      <td>2014</td>\n",
              "      <td>3</td>\n",
              "      <td>102</td>\n",
              "      <td>627.0</td>\n",
              "      <td>463.0</td>\n",
              "    </tr>\n",
              "    <tr>\n",
              "      <th>246088</th>\n",
              "      <td>32</td>\n",
              "      <td>PURULIA</td>\n",
              "      <td>2014</td>\n",
              "      <td>4</td>\n",
              "      <td>106</td>\n",
              "      <td>324.0</td>\n",
              "      <td>16250.0</td>\n",
              "    </tr>\n",
              "    <tr>\n",
              "      <th>246089</th>\n",
              "      <td>32</td>\n",
              "      <td>PURULIA</td>\n",
              "      <td>2014</td>\n",
              "      <td>5</td>\n",
              "      <td>95</td>\n",
              "      <td>279151.0</td>\n",
              "      <td>597899.0</td>\n",
              "    </tr>\n",
              "    <tr>\n",
              "      <th>246090</th>\n",
              "      <td>32</td>\n",
              "      <td>PURULIA</td>\n",
              "      <td>2014</td>\n",
              "      <td>5</td>\n",
              "      <td>102</td>\n",
              "      <td>175.0</td>\n",
              "      <td>88.0</td>\n",
              "    </tr>\n",
              "  </tbody>\n",
              "</table>\n",
              "</div>"
            ],
            "text/plain": [
              "        State_Name District_Name  Crop_Year  Season  Crop      Area  Production\n",
              "246086          32       PURULIA       2014       3    95     306.0       801.0\n",
              "246087          32       PURULIA       2014       3   102     627.0       463.0\n",
              "246088          32       PURULIA       2014       4   106     324.0     16250.0\n",
              "246089          32       PURULIA       2014       5    95  279151.0    597899.0\n",
              "246090          32       PURULIA       2014       5   102     175.0        88.0"
            ]
          },
          "metadata": {
            "tags": []
          },
          "execution_count": 63
        }
      ]
    },
    {
      "cell_type": "code",
      "metadata": {
        "id": "DUJzxNZ-yDIk",
        "colab_type": "code",
        "colab": {}
      },
      "source": [
        "Y = dataset_df['Production'].tolist()\n",
        "X = dataset_df.drop(['Production', 'District_Name'], axis=1)\n",
        "validation_size = 0.30\n",
        "X_train, X_test, y_train, y_test = train_test_split(X, Y, test_size=validation_size)\n",
        "\n"
      ],
      "execution_count": 0,
      "outputs": []
    },
    {
      "cell_type": "code",
      "metadata": {
        "id": "Xj2AVDyO0W8K",
        "colab_type": "code",
        "outputId": "08adc8df-241a-473e-cab3-6f8e3bdcd30c",
        "colab": {
          "base_uri": "https://localhost:8080/",
          "height": 139
        }
      },
      "source": [
        "model = RandomForestRegressor(max_depth=12, max_features=5, n_estimators=25)\n",
        "model.fit(X_train, y_train)\n"
      ],
      "execution_count": 0,
      "outputs": [
        {
          "output_type": "execute_result",
          "data": {
            "text/plain": [
              "RandomForestRegressor(bootstrap=True, ccp_alpha=0.0, criterion='mse',\n",
              "                      max_depth=12, max_features=5, max_leaf_nodes=None,\n",
              "                      max_samples=None, min_impurity_decrease=0.0,\n",
              "                      min_impurity_split=None, min_samples_leaf=1,\n",
              "                      min_samples_split=2, min_weight_fraction_leaf=0.0,\n",
              "                      n_estimators=25, n_jobs=None, oob_score=False,\n",
              "                      random_state=None, verbose=0, warm_start=False)"
            ]
          },
          "metadata": {
            "tags": []
          },
          "execution_count": 194
        }
      ]
    },
    {
      "cell_type": "code",
      "metadata": {
        "id": "tbD_V160JKtl",
        "colab_type": "code",
        "outputId": "d606849e-4162-422b-d65c-031674a0301b",
        "colab": {
          "base_uri": "https://localhost:8080/",
          "height": 52
        }
      },
      "source": [
        "\n",
        "y_pred=model.predict(X_test)\n",
        "r1=explained_variance_score(y_test, y_pred)\n",
        "print(r1)\n",
        "print(model.predict([[32,2014,4,106,324]]))"
      ],
      "execution_count": 0,
      "outputs": [
        {
          "output_type": "stream",
          "text": [
            "0.9213468740240961\n",
            "[18178.9405875]\n"
          ],
          "name": "stdout"
        }
      ]
    },
    {
      "cell_type": "code",
      "metadata": {
        "id": "sr7MSPoFCCND",
        "colab_type": "code",
        "colab": {}
      },
      "source": [
        "file_name = '/content/drive/My Drive/Crop-Yield-Prediction/model3.h5'\n",
        "pickle.dump(model, open(file_name, 'wb'))"
      ],
      "execution_count": 0,
      "outputs": []
    },
    {
      "cell_type": "code",
      "metadata": {
        "id": "QStOmaNy2dkM",
        "colab_type": "code",
        "outputId": "0af37162-b5ef-4bd0-9da5-151f80095abf",
        "colab": {
          "base_uri": "https://localhost:8080/",
          "height": 52
        }
      },
      "source": [
        "model = pickle.load(open('/content/drive/My Drive/Crop-Yield-Prediction/model3.h5','rb'))\n",
        "y_pred=model.predict(X_test)\n",
        "    #print(explained_variance_score(y_test, y_pred))\n",
        "r1=explained_variance_score(y_test, y_pred)\n",
        "print(r1)\n",
        "model.predict([[1,2000,4,22,720]])\n"
      ],
      "execution_count": 0,
      "outputs": [
        {
          "output_type": "stream",
          "text": [
            "0.987504230494499\n"
          ],
          "name": "stdout"
        },
        {
          "output_type": "execute_result",
          "data": {
            "text/plain": [
              "array([231.00631907])"
            ]
          },
          "metadata": {
            "tags": []
          },
          "execution_count": 78
        }
      ]
    },
    {
      "cell_type": "code",
      "metadata": {
        "id": "H0cTz3gWD1BT",
        "colab_type": "code",
        "outputId": "cfde8de1-8eed-44a0-b27d-3165326428c4",
        "colab": {
          "base_uri": "https://localhost:8080/",
          "height": 34
        }
      },
      "source": [
        "state = pickle.load(open('/content/drive/My Drive/Crop-Yield-Prediction/state.enc','rb'))\n",
        "print(state.transform(['Andaman and Nicobar Islands']))"
      ],
      "execution_count": 0,
      "outputs": [
        {
          "output_type": "stream",
          "text": [
            "[0]\n"
          ],
          "name": "stdout"
        }
      ]
    },
    {
      "cell_type": "code",
      "metadata": {
        "id": "0Q_RmoeKmn-t",
        "colab_type": "code",
        "outputId": "231b230f-dc7e-4de7-a718-39606a84ebdf",
        "colab": {
          "base_uri": "https://localhost:8080/",
          "height": 121
        }
      },
      "source": [
        "DTR = DecisionTreeRegressor()\n",
        "DTR.fit(X_train, y_train)\n"
      ],
      "execution_count": 0,
      "outputs": [
        {
          "output_type": "execute_result",
          "data": {
            "text/plain": [
              "DecisionTreeRegressor(ccp_alpha=0.0, criterion='mse', max_depth=None,\n",
              "                      max_features=None, max_leaf_nodes=None,\n",
              "                      min_impurity_decrease=0.0, min_impurity_split=None,\n",
              "                      min_samples_leaf=1, min_samples_split=2,\n",
              "                      min_weight_fraction_leaf=0.0, presort='deprecated',\n",
              "                      random_state=None, splitter='best')"
            ]
          },
          "metadata": {
            "tags": []
          },
          "execution_count": 73
        }
      ]
    },
    {
      "cell_type": "code",
      "metadata": {
        "id": "Ug0bqJnBnPn6",
        "colab_type": "code",
        "outputId": "d4911b0a-ea62-4b17-aa61-a64f2bb691f4",
        "colab": {
          "base_uri": "https://localhost:8080/",
          "height": 52
        }
      },
      "source": [
        "y_pred=DTR.predict(X_test)\n",
        "r1=explained_variance_score(y_test, y_pred)\n",
        "print(r1)\n",
        "print(DTR.predict([[32,2014,4,106,324]]))"
      ],
      "execution_count": 0,
      "outputs": [
        {
          "output_type": "stream",
          "text": [
            "0.9013979536827172\n",
            "[16250.]\n"
          ],
          "name": "stdout"
        }
      ]
    },
    {
      "cell_type": "code",
      "metadata": {
        "id": "PxXkLZDCnwoI",
        "colab_type": "code",
        "colab": {}
      },
      "source": [
        "file_name = '/content/drive/My Drive/Crop-Yield-Prediction/DTR.h5'\n",
        "pickle.dump(DTR, open(file_name, 'wb'))"
      ],
      "execution_count": 0,
      "outputs": []
    },
    {
      "cell_type": "code",
      "metadata": {
        "id": "jfA0RhbLqbgG",
        "colab_type": "code",
        "colab": {}
      },
      "source": [
        "from sklearn.neighbors import KNeighborsRegressor\n",
        "from sklearn.linear_model import LinearRegression\n"
      ],
      "execution_count": 0,
      "outputs": []
    },
    {
      "cell_type": "code",
      "metadata": {
        "id": "5-Lhl-eSqTNV",
        "colab_type": "code",
        "outputId": "934fd907-5ed7-4803-ad2d-02c6ebf50870",
        "colab": {
          "base_uri": "https://localhost:8080/",
          "height": 34
        }
      },
      "source": [
        "KNR = LinearRegression()\n",
        "KNR.fit(X_train, y_train)\n"
      ],
      "execution_count": 0,
      "outputs": [
        {
          "output_type": "execute_result",
          "data": {
            "text/plain": [
              "LinearRegression(copy_X=True, fit_intercept=True, n_jobs=None, normalize=False)"
            ]
          },
          "metadata": {
            "tags": []
          },
          "execution_count": 35
        }
      ]
    },
    {
      "cell_type": "code",
      "metadata": {
        "id": "Uj5n13sYqiiH",
        "colab_type": "code",
        "outputId": "50566e28-081e-4ed2-e853-1ee820b073d3",
        "colab": {
          "base_uri": "https://localhost:8080/",
          "height": 52
        }
      },
      "source": [
        "y_pred=KNR.predict(X_test)\n",
        "    #print(explained_variance_score(y_test, y_pred))\n",
        "r1=explained_variance_score(y_test, y_pred)\n",
        "print(r1)\n",
        "print(KNR.predict([[32,2014,4,106,324]]))"
      ],
      "execution_count": 0,
      "outputs": [
        {
          "output_type": "stream",
          "text": [
            "0.003944551604712632\n",
            "[828459.27017948]\n"
          ],
          "name": "stdout"
        }
      ]
    },
    {
      "cell_type": "code",
      "metadata": {
        "id": "GhS75cq6sM08",
        "colab_type": "code",
        "outputId": "790382e1-14a8-4640-9aa7-43551c37aebb",
        "colab": {
          "base_uri": "https://localhost:8080/",
          "height": 139
        }
      },
      "source": [
        "# scaling data:\n",
        "scaler = StandardScaler()\n",
        "x_trainscaled = scaler.fit_transform(X_train)\n",
        "x_testscaled = scaler.transform(X_test)\n",
        "x_testscaled"
      ],
      "execution_count": 0,
      "outputs": [
        {
          "output_type": "execute_result",
          "data": {
            "text/plain": [
              "array([[ 0.76506251, -0.93287181, -0.91068091,  1.0134573 , -0.25623933],\n",
              "       [-0.34293355,  0.88227397, -0.13349641,  0.6906035 , -0.25636647],\n",
              "       [ 1.26869708,  1.48732256, -0.91068091, -0.71821309, -0.25655718],\n",
              "       ...,\n",
              "       [-0.24220663,  0.47890824,  1.42087259,  1.16020903, -0.25606981],\n",
              "       [-0.34293355, -1.13455468,  1.42087259,  1.3363111 , -0.25615457],\n",
              "       [ 0.46288177, -1.33623754, -0.91068091, -0.2779579 , -0.23464667]])"
            ]
          },
          "metadata": {
            "tags": []
          },
          "execution_count": 21
        }
      ]
    },
    {
      "cell_type": "code",
      "metadata": {
        "colab_type": "code",
        "id": "wKU2Qj6GrE9m",
        "colab": {}
      },
      "source": [
        "from keras.models import Sequential\n",
        "from keras.layers import Dense, Dropout\n",
        "from keras.wrappers.scikit_learn import KerasClassifier\n",
        "from keras.utils import np_utils\n",
        "from sklearn.model_selection import cross_val_score\n",
        "from keras.optimizers import Optimizer\n",
        "from keras import optimizers\n",
        "from sklearn.metrics import mean_absolute_error"
      ],
      "execution_count": 0,
      "outputs": []
    },
    {
      "cell_type": "code",
      "metadata": {
        "colab_type": "code",
        "id": "BHmXOz0-rE-Y",
        "colab": {}
      },
      "source": [
        "sgd = optimizers.SGD(lr=0.1, clipnorm = 1, nesterov = True)\n",
        "ANN = Sequential()\n",
        "ANN.add(Dense(256, input_dim = 5, activation='relu'))\n",
        "ANN.add(Dropout(0.2))\n",
        "ANN.add(Dense(128, activation='relu'))\n",
        "ANN.add(Dense(1, activation='relu'))\n",
        "ANN.compile(loss='mean_absolute_error', optimizer='nadam')"
      ],
      "execution_count": 0,
      "outputs": []
    },
    {
      "cell_type": "code",
      "metadata": {
        "colab_type": "code",
        "outputId": "9b5c7980-4f6e-4322-af88-b169a9cce1f0",
        "id": "ODn5dXTvrE-l",
        "colab": {
          "base_uri": "https://localhost:8080/",
          "height": 1000
        }
      },
      "source": [
        "ANN.fit(X_train, y_train, epochs=50, batch_size=50) "
      ],
      "execution_count": 0,
      "outputs": [
        {
          "output_type": "stream",
          "text": [
            "Epoch 1/50\n",
            "169652/169652 [==============================] - 8s 49us/step - loss: 1996200.4574\n",
            "Epoch 2/50\n",
            "169652/169652 [==============================] - 8s 47us/step - loss: 602529.7802\n",
            "Epoch 3/50\n",
            "169652/169652 [==============================] - 8s 45us/step - loss: 602398.9395\n",
            "Epoch 4/50\n",
            "169652/169652 [==============================] - 8s 46us/step - loss: 602397.6430\n",
            "Epoch 5/50\n",
            "169652/169652 [==============================] - 8s 48us/step - loss: 602407.1329\n",
            "Epoch 6/50\n",
            "169652/169652 [==============================] - 8s 47us/step - loss: 602397.6455\n",
            "Epoch 7/50\n",
            "169652/169652 [==============================] - 8s 45us/step - loss: 602397.6396\n",
            "Epoch 8/50\n",
            "169652/169652 [==============================] - 8s 47us/step - loss: 602397.6432\n",
            "Epoch 9/50\n",
            "169652/169652 [==============================] - 8s 45us/step - loss: 602397.6378\n",
            "Epoch 10/50\n",
            "169652/169652 [==============================] - 8s 46us/step - loss: 602397.6431\n",
            "Epoch 11/50\n",
            "169652/169652 [==============================] - 8s 49us/step - loss: 602397.6436\n",
            "Epoch 12/50\n",
            "169652/169652 [==============================] - 8s 46us/step - loss: 602397.6444\n",
            "Epoch 13/50\n",
            "169652/169652 [==============================] - 8s 48us/step - loss: 602397.6389\n",
            "Epoch 14/50\n",
            "169652/169652 [==============================] - 8s 47us/step - loss: 602397.6442\n",
            "Epoch 15/50\n",
            "169652/169652 [==============================] - 8s 45us/step - loss: 602397.6389\n",
            "Epoch 16/50\n",
            "169652/169652 [==============================] - 7s 42us/step - loss: 602397.6365\n",
            "Epoch 17/50\n",
            "169652/169652 [==============================] - 8s 45us/step - loss: 602397.6361\n",
            "Epoch 18/50\n",
            "169652/169652 [==============================] - 8s 45us/step - loss: 602397.6448\n",
            "Epoch 19/50\n",
            "169652/169652 [==============================] - 8s 45us/step - loss: 602397.6335\n",
            "Epoch 20/50\n",
            "169652/169652 [==============================] - 7s 44us/step - loss: 602397.6357\n",
            "Epoch 21/50\n",
            "169652/169652 [==============================] - 8s 48us/step - loss: 602397.6412\n",
            "Epoch 22/50\n",
            "169652/169652 [==============================] - 8s 49us/step - loss: 602397.6369\n",
            "Epoch 23/50\n",
            "169652/169652 [==============================] - 7s 44us/step - loss: 602397.6448\n",
            "Epoch 24/50\n",
            "169652/169652 [==============================] - 8s 50us/step - loss: 602397.6404\n",
            "Epoch 25/50\n",
            "169652/169652 [==============================] - 8s 49us/step - loss: 602397.6385\n",
            "Epoch 26/50\n",
            "169652/169652 [==============================] - 8s 48us/step - loss: 602397.6419\n",
            "Epoch 27/50\n",
            "169652/169652 [==============================] - 8s 47us/step - loss: 602397.6422\n",
            "Epoch 28/50\n",
            "169652/169652 [==============================] - 8s 47us/step - loss: 602397.6448\n",
            "Epoch 29/50\n",
            "169652/169652 [==============================] - 8s 47us/step - loss: 602397.6413\n",
            "Epoch 30/50\n",
            "169652/169652 [==============================] - 8s 45us/step - loss: 602397.6423\n",
            "Epoch 31/50\n",
            "169652/169652 [==============================] - 8s 48us/step - loss: 602397.6389\n",
            "Epoch 32/50\n",
            "169652/169652 [==============================] - 8s 50us/step - loss: 602397.6410\n",
            "Epoch 33/50\n",
            "169652/169652 [==============================] - 8s 49us/step - loss: 602397.6433\n",
            "Epoch 34/50\n",
            "169652/169652 [==============================] - 8s 49us/step - loss: 602402.0715\n",
            "Epoch 35/50\n",
            "169652/169652 [==============================] - 8s 47us/step - loss: 602397.6392\n",
            "Epoch 36/50\n",
            "169652/169652 [==============================] - 8s 47us/step - loss: 602397.6345\n",
            "Epoch 37/50\n",
            "169652/169652 [==============================] - 8s 47us/step - loss: 602397.6375\n",
            "Epoch 38/50\n",
            "169652/169652 [==============================] - 8s 47us/step - loss: 602397.6389\n",
            "Epoch 39/50\n",
            "169652/169652 [==============================] - 8s 45us/step - loss: 602397.6385\n",
            "Epoch 40/50\n",
            "169652/169652 [==============================] - 9s 53us/step - loss: 602397.6422\n",
            "Epoch 41/50\n",
            "169652/169652 [==============================] - 8s 49us/step - loss: 602397.6398\n",
            "Epoch 42/50\n",
            "169652/169652 [==============================] - 8s 46us/step - loss: 602397.6383\n",
            "Epoch 43/50\n",
            "169652/169652 [==============================] - 8s 47us/step - loss: 602397.6401\n",
            "Epoch 44/50\n",
            "169652/169652 [==============================] - 7s 44us/step - loss: 602397.6441\n",
            "Epoch 45/50\n",
            "169652/169652 [==============================] - 8s 46us/step - loss: 602397.6393\n",
            "Epoch 46/50\n",
            "169652/169652 [==============================] - 8s 45us/step - loss: 602397.6416\n",
            "Epoch 47/50\n",
            "169652/169652 [==============================] - 8s 47us/step - loss: 602397.6355\n",
            "Epoch 48/50\n",
            "169652/169652 [==============================] - 8s 46us/step - loss: 602397.6376\n",
            "Epoch 49/50\n",
            "169652/169652 [==============================] - 8s 48us/step - loss: 602397.6435\n",
            "Epoch 50/50\n",
            "169652/169652 [==============================] - 8s 50us/step - loss: 602397.6381\n"
          ],
          "name": "stdout"
        },
        {
          "output_type": "execute_result",
          "data": {
            "text/plain": [
              "<keras.callbacks.callbacks.History at 0x7f42f6e2e588>"
            ]
          },
          "metadata": {
            "tags": []
          },
          "execution_count": 23
        }
      ]
    },
    {
      "cell_type": "code",
      "metadata": {
        "id": "RptkLCWJsqVs",
        "colab_type": "code",
        "outputId": "8d08394f-53e9-4061-d027-8c19c1035738",
        "colab": {
          "base_uri": "https://localhost:8080/",
          "height": 34
        }
      },
      "source": [
        "import numpy as np\n",
        "z = np.array([[32,2014,4,12,3243]])\n",
        "ypredkeras = ANN.predict(x_testscaled)\n",
        "mean_absolute_error(y_test, ypredkeras)\n",
        "ANN.predict(z)"
      ],
      "execution_count": 0,
      "outputs": [
        {
          "output_type": "execute_result",
          "data": {
            "text/plain": [
              "array([[0.]], dtype=float32)"
            ]
          },
          "metadata": {
            "tags": []
          },
          "execution_count": 31
        }
      ]
    }
  ]
}